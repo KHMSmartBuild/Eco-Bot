{
 "cells": [
  {
   "cell_type": "markdown",
   "metadata": {},
   "source": [
    "# Introduction to Eco-Bot\n",
    "\n",
    "Eco-Bot is an initiative to combine the power of artificial intelligence with environmental awareness. As we face increasing challenges related to climate change and sustainability, Eco-Bot stands as a digital companion to guide users in making eco-friendly decisions. By harnessing the capabilities of OpenAI and the Autogen framework, Eco-Bot offers dynamic interactions to educate, inform, and inspire users towards sustainable practices.\n"
   ]
  },
  {
   "cell_type": "markdown",
   "metadata": {},
   "source": [
    "In this notebook we will test out the creation of eco-bot and and recycle racoon adding the characters to a chat with each other about how the requirements for an AI recycling Centre  the gma and the understanding agent with its 3 sub agents what how why be also in the chat helping to gather the information together \n",
    "\n",
    "## Eco-Bot Multi-Agent Chat for GBTS Visualization\n"
   ]
  },
  {
   "cell_type": "markdown",
   "metadata": {},
   "source": [
    "## Initializing Agents\n"
   ]
  },
  {
   "cell_type": "markdown",
   "metadata": {},
   "source": [
    "## Setting Up Multi-Agent Chat\n"
   ]
  }
 ],
 "metadata": {
  "kernelspec": {
   "display_name": "eco-bot_env",
   "language": "python",
   "name": "python3"
  },
  "language_info": {
   "codemirror_mode": {
    "name": "ipython",
    "version": 3
   },
   "file_extension": ".py",
   "mimetype": "text/x-python",
   "name": "python",
   "nbconvert_exporter": "python",
   "pygments_lexer": "ipython3",
   "version": "3.11.0"
  }
 },
 "nbformat": 4,
 "nbformat_minor": 2
}
