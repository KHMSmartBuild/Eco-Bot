{
 "cells": [
  {
   "cell_type": "markdown",
   "metadata": {},
   "source": [
    "# Introduction to Eco-Bot\n",
    "\n",
    "Eco-Bot is an initiative to combine the power of artificial intelligence with environmental awareness. As we face increasing challenges related to climate change and sustainability, Eco-Bot stands as a digital companion to guide users in making eco-friendly decisions. By harnessing the capabilities of OpenAI and the Autogen framework, Eco-Bot offers dynamic interactions to educate, inform, and inspire users towards sustainable practices.\n"
   ]
  },
  {
   "cell_type": "markdown",
   "metadata": {},
   "source": [
    "In this notebook we will test out the creation of eco-bot and and recycle racoon adding the characters to a chat with each other about how the requirements for an AI recycling Centre  the gma and the understanding agent with its 3 sub agents what how why be also in the chat helping to gather the information together \n",
    "\n",
    "## Eco-Bot Multi-Agent Chat for GBTS Visualization\n"
   ]
  },
  {
   "cell_type": "code",
   "execution_count": 9,
   "metadata": {},
   "outputs": [],
   "source": [
    "# Import Necessary Libraries\n",
    "import autogen\n",
    "\n"
   ]
  },
  {
   "cell_type": "code",
   "execution_count": 10,
   "metadata": {},
   "outputs": [],
   "source": [
    "from autogen.agentchat import UserProxyAgent, assistant_agent, Agent, ConversableAgent, GroupChat, GroupChatManager\n"
   ]
  },
  {
   "cell_type": "code",
   "execution_count": 16,
   "metadata": {},
   "outputs": [
    {
     "ename": "ModuleNotFoundError",
     "evalue": "No module named 'agents'",
     "output_type": "error",
     "traceback": [
      "\u001b[1;31m---------------------------------------------------------------------------\u001b[0m",
      "\u001b[1;31mModuleNotFoundError\u001b[0m                       Traceback (most recent call last)",
      "\u001b[1;32mc:\\Users\\User\\OneDrive\\Desktop\\Buisness\\KHM Smart Build\\Coding\\Projects\\OCFS_projects\\Eco-Bot\\notebooks\\Autogen_Eco_group_chat.ipynb Cell 5\u001b[0m line \u001b[0;36m1\n\u001b[1;32m----> <a href='vscode-notebook-cell:/c%3A/Users/User/OneDrive/Desktop/Buisness/KHM%20Smart%20Build/Coding/Projects/OCFS_projects/Eco-Bot/notebooks/Autogen_Eco_group_chat.ipynb#W5sZmlsZQ%3D%3D?line=0'>1</a>\u001b[0m \u001b[39mfrom\u001b[39;00m \u001b[39magents\u001b[39;00m\u001b[39m.\u001b[39;00m\u001b[39mconfig\u001b[39;00m\u001b[39m.\u001b[39;00m\u001b[39mconfig_setup\u001b[39;00m \u001b[39mimport\u001b[39;00m config_list_gpt4\n\u001b[0;32m      <a href='vscode-notebook-cell:/c%3A/Users/User/OneDrive/Desktop/Buisness/KHM%20Smart%20Build/Coding/Projects/OCFS_projects/Eco-Bot/notebooks/Autogen_Eco_group_chat.ipynb#W5sZmlsZQ%3D%3D?line=2'>3</a>\u001b[0m config_list \u001b[39m=\u001b[39m config_list_gpt4\n\u001b[0;32m      <a href='vscode-notebook-cell:/c%3A/Users/User/OneDrive/Desktop/Buisness/KHM%20Smart%20Build/Coding/Projects/OCFS_projects/Eco-Bot/notebooks/Autogen_Eco_group_chat.ipynb#W5sZmlsZQ%3D%3D?line=4'>5</a>\u001b[0m \u001b[39m# Define the configuration for the agents\u001b[39;00m\n",
      "\u001b[1;31mModuleNotFoundError\u001b[0m: No module named 'agents'"
     ]
    }
   ],
   "source": [
    "from agents.config.config_setup import config_list_gpt4\n",
    "\n",
    "config_list = config_list_gpt4\n",
    "\n",
    "# Define the configuration for the agents\n",
    "gpt4_config = {\n",
    "    \"seed\": 42,  # change the seed for different trials\n",
    "    \"temperature\": 0,\n",
    "    \"config_list\": config_list,  # This should be defined as per your API keys and model preferences\n",
    "    \"timeout\": 120,\n",
    "}\n"
   ]
  },
  {
   "cell_type": "code",
   "execution_count": null,
   "metadata": {},
   "outputs": [],
   "source": [
    "# Define the configuration for the agents\n",
    "gpt4_config = {\n",
    "    \"seed\": 42,  # change the seed for different trials\n",
    "    \"temperature\": 0,\n",
    "    \"config_list\": config_list,  # This should be defined as per your API keys and model preferences\n",
    "    \"timeout\": 120,\n",
    "}"
   ]
  },
  {
   "cell_type": "markdown",
   "metadata": {},
   "source": [
    "## Initializing Agents\n"
   ]
  },
  {
   "cell_type": "markdown",
   "metadata": {},
   "source": [
    "## Setting Up Multi-Agent Chat\n"
   ]
  },
  {
   "cell_type": "code",
   "execution_count": null,
   "metadata": {},
   "outputs": [],
   "source": [
    "class Eco_Bot:\n",
    "    def __init__(self):\n",
    "        self.understanding_agent = UnderstandingAgent(name=\"Understanding Agent\")\n",
    "\n",
    "    def handle_message(self, message):\n",
    "        response = self.understanding_agent.handle_message(message)\n",
    "        return response\n",
    "\n",
    "    def initiate_chat(self, message):\n",
    "        print(f\"Eco-Bot: {message}\")\n",
    "        while True:\n",
    "            user_input = input(\"User: \")\n",
    "            if user_input.lower() in [\"exit\", \"quit\", \"terminate\"]:\n",
    "                print(\"Eco-Bot: Goodbye!\")\n",
    "                break\n",
    "            response = self.handle_message(user_input)\n",
    "            print(f\"Eco-Bot: {response}\")\n",
    "\n",
    "class UnderstandingAgent:\n",
    "    def __init__(self, name):\n",
    "        self.name = name\n",
    "        self.what_agent = WhatAgent(name=\"What Agent\")\n",
    "        self.how_agent = HowAgent(name=\"How Agent\")\n",
    "        self.why_agent = WhyAgent(name=\"Why Agent\")\n",
    "\n",
    "    def handle_message(self, message):\n",
    "        if \"what\" in message.lower():\n",
    "            return self.what_agent.handle_message(message)\n",
    "        elif \"how\" in message.lower():\n",
    "            return self.how_agent.handle_message(message)\n",
    "        elif \"why\" in message.lower():\n",
    "            return self.why_agent.handle_message(message)\n",
    "        else:\n",
    "            return f\"{self.name} does not understand the message: {message}\"\n",
    "class WhatAgent:\n",
    "    def __init__(self, name):\n",
    "        self.name = name\n",
    "\n",
    "    def handle_message(self, message):\n",
    "        return f\"{self.name} is handling 'What' query: {message}\"\n",
    "\n",
    "class HowAgent:\n",
    "    def __init__(self, name):\n",
    "        self.name = name\n",
    "\n",
    "    def handle_message(self, message):\n",
    "        return f\"{self.name} is handling 'How' query: {message}\"\n",
    "\n",
    "class WhyAgent:\n",
    "    def __init__(self, name):\n",
    "        self.name = name\n",
    "\n",
    "    def handle_message(self, message):\n",
    "        return f\"{self.name} is handling 'Why' query: {message}\"\n",
    "    \n",
    "# Example of how to use the Eco_Bot class\n",
    "eco_bot = Eco_Bot()\n",
    "eco_bot.initiate_chat(\"Hello\")\n"
   ]
  },
  {
   "cell_type": "markdown",
   "metadata": {},
   "source": [
    "# User Proxy Agent Initialization\n",
    "\n",
    "This script initializes a User Proxy Agent for a chat system. Here's a breakdown of the parameters:\n",
    "\n",
    "- `name`: The name of the agent, in this case, \"User_proxy\".\n",
    "- `system_message`: A message that the system uses, in this case, \"A human admin.\"\n",
    "- `code_execution_config`: A dictionary that contains configuration for code execution. It specifies the last number of messages to consider and the working directory.\n",
    "- `human_input_mode`: The mode for human input. In this case, it's set to \"TERMINATE\"."
   ]
  },
  {
   "cell_type": "code",
   "execution_count": null,
   "metadata": {},
   "outputs": [],
   "source": [
    "\n",
    "class UnderstandingAgent:\n",
    "    def __init__(self, name):\n",
    "        self.name = name\n",
    "        self.what_agent = WhatAgent(name=\"What Agent\")\n",
    "        self.how_agent = HowAgent(name=\"How Agent\")\n",
    "        self.why_agent = WhyAgent(name=\"Why Agent\")\n",
    "\n",
    "    def handle_message(self, message):\n",
    "        if \"what\" in message.lower():\n",
    "            return self.what_agent.handle_message(message)\n",
    "        elif \"how\" in message.lower():\n",
    "            return self.how_agent.handle_message(message)\n",
    "        elif \"why\" in message.lower():\n",
    "            return self.why_agent.handle_message(message)\n",
    "        else:\n",
    "            return f\"{self.name} does not understand the message: {message}\"\n",
    "class WhatAgent:\n",
    "    def __init__(self, name):\n",
    "        self.name = name\n",
    "\n",
    "    def handle_message(self, message):\n",
    "        return f\"{self.name} is handling 'What' query: {message}\"\n",
    "\n",
    "class HowAgent:\n",
    "    def __init__(self, name):\n",
    "        self.name = name\n",
    "\n",
    "    def handle_message(self, message):\n",
    "        return f\"{self.name} is handling 'How' query: {message}\"\n",
    "\n",
    "class WhyAgent:\n",
    "    def __init__(self, name):\n",
    "        self.name = name\n",
    "\n",
    "    def handle_message(self, message):\n",
    "        return f\"{self.name} is handling 'Why' query: {message}\""
   ]
  },
  {
   "cell_type": "code",
   "execution_count": 13,
   "metadata": {},
   "outputs": [],
   "source": [
    "class GeneralManager:\n",
    "    def __init__(self, name):\n",
    "        self.name = name\n",
    "        self.task_master = TaskMaster(name=\"Task Master\")\n",
    "        self.main_safety_agent = SafetyAgent(name=\"Main Safety Agent\")\n",
    "        self.error_handling_safety_agent = SafetyAgent(name=\"Error Handling Safety Agent\")\n",
    "\n",
    "    def handle_message(self, message):\n",
    "        response = self.task_master.handle_message(message)\n",
    "        if \"error\" in response.lower():\n",
    "            error_response = self.error_handling_safety_agent.handle_message(response)\n",
    "            return error_response\n",
    "        return response\n",
    "\n",
    "    def monitor_safety(self, script):\n",
    "        if \"unsafe\" in script:\n",
    "            alert = self.main_safety_agent.handle_message(\"Safety breach detected!\")\n",
    "            return alert\n",
    "        return \"Script is safe\"\n"
   ]
  },
  {
   "cell_type": "code",
   "execution_count": 12,
   "metadata": {},
   "outputs": [],
   "source": [
    "class TaskMaster:\n",
    "    def __init__(self, name):\n",
    "        self.name = name\n",
    "\n",
    "    def handle_message(self, message):\n",
    "        return f\"{self.name} received a task: {message}\"\n",
    "\n",
    "class SafetyAgent:\n",
    "    def __init__(self, name):\n",
    "        self.name = name\n",
    "\n",
    "    def handle_message(self, message):\n",
    "        return f\"{self.name} alert: {message}\"\n"
   ]
  },
  {
   "cell_type": "code",
   "execution_count": 22,
   "metadata": {},
   "outputs": [],
   "source": [
    "class TaskMaker:\n",
    "    def __init__(self, name):\n",
    "        self.name = name\n",
    "\n",
    "    def formulate_task(self, message):\n",
    "        task = f\"Formulated Task based on: {message}\"\n",
    "        return task\n",
    "\n",
    "class TaskDelegator:\n",
    "    def __init__(self, name, worker_agents):\n",
    "        self.name = name\n",
    "        self.worker_agents = worker_agents\n",
    "\n",
    "    def delegate_task(self, task):\n",
    "        worker_agent = self.worker_agents.pop(0)\n",
    "        self.worker_agents.append(worker_agent)\n",
    "        response = worker_agent.handle_message(task)\n",
    "        return response\n"
   ]
  },
  {
   "cell_type": "code",
   "execution_count": 14,
   "metadata": {},
   "outputs": [],
   "source": [
    "class WorkerAgent:\n",
    "    def __init__(self, name):\n",
    "        self.name = name\n",
    "\n",
    "    def handle_message(self, message):\n",
    "        return f\"{self.name} is processing the task: {message}\"\n"
   ]
  },
  {
   "cell_type": "code",
   "execution_count": null,
   "metadata": {},
   "outputs": [],
   "source": [
    "# Import the necessary classes from autogen\n",
    "import openai\n",
    "import diskcache\n",
    "from autogen.agentchat import UserProxyAgent, AssistantAgent, GroupChat, GroupChatManager\n",
    "\n",
    "# Define your actual llm_config with real API configuration\n",
    "llm_config = {\n",
    "    \"config_list\": config_list,  # replace with your actual config_list with API keys\n",
    "    \"seed\": 42  # Optional: The seed can be set for reproducibility\n",
    "}\n",
    "\n",
    "# Initialize the agents\n",
    "Eco_Bot = UserProxyAgent(\n",
    "    name=\"Eco-Bot\",\n",
    "    system_message=\"Hello, I am Eco-Bot. I am here to help you with your queries.\",\n",
    "    code_execution_config={\"last_n_messages\": 2, \"work_dir\": \"groupchat\"},\n",
    "    human_input_mode=\"TERMINATE\"\n",
    ")\n",
    "coder = AssistantAgent(\n",
    "    name=\"Coder\",\n",
    "    llm_config=llm_config,\n",
    ")\n",
    "pm = AssistantAgent(\n",
    "    name=\"General Manager\",\n",
    "    system_message=\"Hello, I am the General Manager. I will be managing the group chat.\",\n",
    "    llm_config=llm_config,\n",
    ")\n",
    "SafetyAgent = AssistantAgent(\n",
    "    name=\"Safety Agent\",\n",
    "    system_message=\"Hello, I am the Safety Agent. I will be monitoring the safety of the group chat.\",\n",
    "    llm_config=llm_config,\n",
    ")\n",
    "Agent = AssistantAgent(\n",
    "    name=\"Agent\",\n",
    "    system_message=\"Hello, I am the Agent. I will be handling the tasks.\",\n",
    "    llm_config=llm_config,\n",
    ")\n",
    "\n",
    "# Instantiate the GroupChat\n",
    "groupchat = GroupChat(agents=[Eco_Bot, coder, pm, SafetyAgent, Agent], messages=[], max_round=12)\n",
    "\n",
    "# Instantiate the GroupChatManager\n",
    "manager = GroupChatManager(groupchat=groupchat, llm_config=llm_config)\n",
    "\n",
    "# This code assumes that the autogen library is properly installed and configured,\n",
    "# and that the API keys and other configurations are correctly set.\n",
    "\n",
    "user_proxy.initiate_chat(\n",
    "    manager,\n",
    "    message=\"\"\"\n",
    "Let's start the group chat. discuss the following topic: \"How to reduce carbon footprint?\"\n",
    "\"\"\",\n",
    ")\n"
   ]
  }
 ],
 "metadata": {
  "kernelspec": {
   "display_name": "eco-bot_env",
   "language": "python",
   "name": "python3"
  },
  "language_info": {
   "codemirror_mode": {
    "name": "ipython",
    "version": 3
   },
   "file_extension": ".py",
   "mimetype": "text/x-python",
   "name": "python",
   "nbconvert_exporter": "python",
   "pygments_lexer": "ipython3",
   "version": "3.11.0"
  }
 },
 "nbformat": 4,
 "nbformat_minor": 2
}
