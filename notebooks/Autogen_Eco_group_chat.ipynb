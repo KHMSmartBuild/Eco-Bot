{
 "cells": [
  {
   "cell_type": "markdown",
   "metadata": {},
   "source": [
    "# Introduction to Eco-Bot\n",
    "\n",
    "Eco-Bot is an initiative to combine the power of artificial intelligence with environmental awareness. As we face increasing challenges related to climate change and sustainability, Eco-Bot stands as a digital companion to guide users in making eco-friendly decisions. By harnessing the capabilities of OpenAI and the Autogen framework, Eco-Bot offers dynamic interactions to educate, inform, and inspire users towards sustainable practices.\n"
   ]
  },
  {
   "cell_type": "markdown",
   "metadata": {},
   "source": [
    "In this notebook we will test out the creation of eco-bot and and recycle racoon adding the characters to a chat with each other about how the requirements for an AI recycling Centre  the gma and the understanding agent with its 3 sub agents what how why be also in the chat helping to gather the information together \n",
    "\n",
    "## Eco-Bot Multi-Agent Chat for GBTS Visualization\n"
   ]
  },
  {
   "cell_type": "code",
   "execution_count": null,
   "metadata": {},
   "outputs": [],
   "source": [
    "# Import Necessary Libraries\n",
    "\n",
    "import autogen\n",
    "from autogen.agentchat import UserProxyAgent, AssistantAgent, GroupChat, GroupChatManager, agent\n",
    "from agents.agent_classes import *\n",
    "# ... any other necessary imports\n"
   ]
  },
  {
   "cell_type": "code",
   "execution_count": null,
   "metadata": {},
   "outputs": [],
   "source": [
    "# Load Environment Variables\n",
    "from decouple import config\n",
    "\n",
    "API_KEY = config('OPENAI_API_KEY')\n",
    "\n",
    "# Load OAI_CONFIG_LIST from YAML\n",
    "import yaml\n",
    "\n",
    "with open(\"agents/config/oai_config_list.yaml\", 'r') as file:\n",
    "    oai_config_list = yaml.safe_load(file)\n"
   ]
  },
  {
   "cell_type": "markdown",
   "metadata": {},
   "source": [
    "## Initializing Agents\n"
   ]
  },
  {
   "cell_type": "code",
   "execution_count": null,
   "metadata": {},
   "outputs": [],
   "source": [
    "# Initialize the Agents\n",
    "llm_config = {\"config_list\": config_list_gpt4, \"seed\": 42}\n",
    "user_proxy = autogen.UserProxyAgent(\n",
    "   name=\"User_proxy\",\n",
    "   system_message=\"A human admin.\",\n",
    "   code_execution_config={\"last_n_messages\": 2, \"work_dir\": \"groupchat\"},\n",
    "   human_input_mode=\"TERMINATE\"\n",
    ")\n",
    "coder = autogen.AssistantAgent(\n",
    "    name=\"Coder\",\n",
    "    llm_config=llm_config,\n",
    ")\n",
    "pm = autogen.AssistantAgent(\n",
    "    name=\"Product_manager\",\n",
    "    system_message=\"Creative in software product ideas.\",\n",
    "    llm_config=llm_config,\n",
    ")\n",
    "groupchat = autogen.GroupChat(agents=[user_proxy, coder, pm], messages=[], max_round=12)\n",
    "manager = autogen.GroupChatManager(groupchat=groupchat, llm_config=llm_config)\n",
    "agent1 = EcoBot()\n",
    "agent2 = GeneralManager(arguments)\n",
    "agent3 = SafetyAgent(arguments)\n",
    "agent4 = Agent(arguments)\n",
    "# ... initialize other agents as needed\n"
   ]
  },
  {
   "cell_type": "markdown",
   "metadata": {},
   "source": [
    "## Setting Up Multi-Agent Chat\n"
   ]
  },
  {
   "cell_type": "code",
   "execution_count": null,
   "metadata": {},
   "outputs": [],
   "source": []
  }
 ],
 "metadata": {
  "kernelspec": {
   "display_name": "eco-bot_env",
   "language": "python",
   "name": "python3"
  },
  "language_info": {
   "codemirror_mode": {
    "name": "ipython",
    "version": 3
   },
   "file_extension": ".py",
   "mimetype": "text/x-python",
   "name": "python",
   "nbconvert_exporter": "python",
   "pygments_lexer": "ipython3",
   "version": "3.11.0"
  }
 },
 "nbformat": 4,
 "nbformat_minor": 2
}
